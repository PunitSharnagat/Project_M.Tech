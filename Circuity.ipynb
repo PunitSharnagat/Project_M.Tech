{
 "cells": [
  {
   "cell_type": "code",
   "execution_count": 5,
   "id": "aaa0e851-7e23-4972-b32f-1088ce41426f",
   "metadata": {},
   "outputs": [],
   "source": [
    "import osmnx as ox"
   ]
  },
  {
   "cell_type": "code",
   "execution_count": null,
   "id": "ebb3d13f-20c4-4c5e-b368-4177060c2085",
   "metadata": {},
   "outputs": [],
   "source": [
    "%%time\n",
    "############## Circuity ##############\n",
    "\n",
    "\n",
    "G = ox.graph_from_place('Shanghai,China', network_type='walk')"
   ]
  },
  {
   "cell_type": "code",
   "execution_count": null,
   "id": "81afe504-9985-4d4b-b767-a227762c99b2",
   "metadata": {
    "tags": []
   },
   "outputs": [],
   "source": [
    "%%time\n",
    "# convert your MultiDiGraph to an undirected MultiGraph\n",
    "M = ox.utils_graph.get_undirected(G)\n",
    "\n",
    "ox.stats.circuity_avg(M)"
   ]
  },
  {
   "cell_type": "code",
   "execution_count": null,
   "id": "b9fc9740-37db-444d-b6ed-71ff428b2791",
   "metadata": {},
   "outputs": [],
   "source": [
    "%%time\n",
    "ox.plot_graph(G)"
   ]
  },
  {
   "cell_type": "code",
   "execution_count": 4,
   "id": "68e9b326-a6d1-4d3f-9fbf-592e4911bbf5",
   "metadata": {},
   "outputs": [
    {
     "data": {
      "text/plain": [
       "1.0371918947637808"
      ]
     },
     "execution_count": 4,
     "metadata": {},
     "output_type": "execute_result"
    }
   ],
   "source": [
    "\n",
    "G = ox.graph_from_place('Boston, Suffolk County, Massachusetts, United States', network_type='drive')\n",
    "\n",
    "# convert your MultiDiGraph to an undirected MultiGraph\n",
    "M = ox.utils_graph.get_undirected(G)\n",
    "\n",
    "ox.stats.circuity_avg(M)"
   ]
  },
  {
   "cell_type": "code",
   "execution_count": null,
   "id": "d2d4fca4-7bea-4988-9730-286e7d45f1d7",
   "metadata": {},
   "outputs": [],
   "source": [
    "\n",
    "G = ox.graph_from_place('scotland, United Kingdom', network_type='walk')\n",
    "\n",
    "# convert your MultiDiGraph to an undirected MultiGraph\n",
    "M = ox.utils_graph.get_undirected(G)\n",
    "\n",
    "ox.stats.circuity_avg(M)\n",
    "\n",
    "\n",
    "############## Circuity ##############"
   ]
  },
  {
   "cell_type": "code",
   "execution_count": 24,
   "id": "cc8c0de1-7f1b-43c4-8b1d-a83c8ed3ae82",
   "metadata": {},
   "outputs": [],
   "source": [
    "############# Difference in Nodes and edges #############\n",
    "\n",
    "\n",
    "# Importing data from place name as drivable network\n",
    "import osmnx as ox\n",
    "%matplotlib inline\n",
    "G = ox.graph_from_place('delhi,india', network_type='walk')"
   ]
  },
  {
   "cell_type": "code",
   "execution_count": 25,
   "id": "a0ec0011-0ead-4d4e-8f64-97ed62cd3120",
   "metadata": {},
   "outputs": [],
   "source": [
    "nodes, edges = ox.graph_to_gdfs(G)"
   ]
  },
  {
   "cell_type": "code",
   "execution_count": 26,
   "id": "b1d9d570-d6ca-475f-bb6f-2148e9996da6",
   "metadata": {},
   "outputs": [
    {
     "name": "stdout",
     "output_type": "stream",
     "text": [
      "Delhi walkable network has, Nodes = 156162 and Edges = 441526\n"
     ]
    }
   ],
   "source": [
    "print('Delhi walkable network has, Nodes =', len(nodes), 'and Edges =', len(edges))"
   ]
  },
  {
   "cell_type": "code",
   "execution_count": 29,
   "id": "5a31ff99-d489-4b8d-a078-3d78358715ee",
   "metadata": {},
   "outputs": [],
   "source": [
    "G = ox.graph_from_place('delhi,india', network_type='all_private')"
   ]
  },
  {
   "cell_type": "code",
   "execution_count": 31,
   "id": "e83c39c9-7cef-423e-b141-1c9e8aa13d19",
   "metadata": {},
   "outputs": [
    {
     "name": "stdout",
     "output_type": "stream",
     "text": [
      "Delhi all_private network has, Nodes = 158858 and Edges = 426567\n"
     ]
    }
   ],
   "source": [
    "print('Delhi all_private network has, Nodes =', len(G.nodes), 'and Edges =', len(G.edges))"
   ]
  },
  {
   "cell_type": "code",
   "execution_count": null,
   "id": "e7f2869a-f334-435c-aced-39b5c368c4dc",
   "metadata": {},
   "outputs": [],
   "source": [
    "\n",
    "\n",
    "\n",
    "############# Difference in Nodes and edges #############"
   ]
  }
 ],
 "metadata": {
  "kernelspec": {
   "display_name": "Python 3 (ipykernel)",
   "language": "python",
   "name": "python3"
  },
  "language_info": {
   "codemirror_mode": {
    "name": "ipython",
    "version": 3
   },
   "file_extension": ".py",
   "mimetype": "text/x-python",
   "name": "python",
   "nbconvert_exporter": "python",
   "pygments_lexer": "ipython3",
   "version": "3.8.12"
  }
 },
 "nbformat": 4,
 "nbformat_minor": 5
}
