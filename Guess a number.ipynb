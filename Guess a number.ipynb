{
 "cells": [
  {
   "cell_type": "code",
   "execution_count": 8,
   "id": "fb8bf718-50b1-42db-b0b8-6e0837387e68",
   "metadata": {},
   "outputs": [
    {
     "name": "stdout",
     "output_type": "stream",
     "text": [
      "Enter the range you want to try\n"
     ]
    },
    {
     "name": "stdin",
     "output_type": "stream",
     "text": [
      "Enter first number: 1\n",
      "Enter last number: 5\n"
     ]
    },
    {
     "name": "stdout",
     "output_type": "stream",
     "text": [
      "Guess the number that is greather than or eqaul to 1 but less than or eqaul to 5.\n",
      "You have 5 lifelines.\n"
     ]
    },
    {
     "name": "stdin",
     "output_type": "stream",
     "text": [
      "\n",
      "Guess the number: 2\n"
     ]
    },
    {
     "name": "stdout",
     "output_type": "stream",
     "text": [
      "Bravooo.....You guessed it right..!\n"
     ]
    },
    {
     "name": "stdin",
     "output_type": "stream",
     "text": [
      "wanna play again..? (y/n):  j\n"
     ]
    },
    {
     "name": "stdout",
     "output_type": "stream",
     "text": [
      "Enter the range you want to try\n"
     ]
    },
    {
     "name": "stdin",
     "output_type": "stream",
     "text": [
      "Enter first number: 5\n",
      "Enter last number: 6\n"
     ]
    },
    {
     "name": "stdout",
     "output_type": "stream",
     "text": [
      "Guess the number that is greather than or eqaul to 5 but less than or eqaul to 6.\n",
      "You have 5 lifelines.\n"
     ]
    },
    {
     "name": "stdin",
     "output_type": "stream",
     "text": [
      "\n",
      "Guess the number: 5\n"
     ]
    },
    {
     "name": "stdout",
     "output_type": "stream",
     "text": [
      "Bravooo.....You guessed it right..!\n"
     ]
    },
    {
     "name": "stdin",
     "output_type": "stream",
     "text": [
      "wanna play again..? (y/n):  2\n"
     ]
    },
    {
     "name": "stdout",
     "output_type": "stream",
     "text": [
      "Enter the range you want to try\n"
     ]
    },
    {
     "name": "stdin",
     "output_type": "stream",
     "text": [
      "Enter first number: 7\n",
      "Enter last number: 70\n"
     ]
    },
    {
     "name": "stdout",
     "output_type": "stream",
     "text": [
      "Guess the number that is greather than or eqaul to 7 but less than or eqaul to 70.\n",
      "You have 5 lifelines.\n"
     ]
    },
    {
     "name": "stdin",
     "output_type": "stream",
     "text": [
      "\n",
      "Guess the number: 56\n"
     ]
    },
    {
     "name": "stdout",
     "output_type": "stream",
     "text": [
      "Better luck next time. ~_~\n",
      "4 lifelines left.\n"
     ]
    },
    {
     "name": "stdin",
     "output_type": "stream",
     "text": [
      "\n",
      "Guess the number: 55\n"
     ]
    },
    {
     "name": "stdout",
     "output_type": "stream",
     "text": [
      "Better luck next time. ~_~\n",
      "3 lifelines left.\n"
     ]
    },
    {
     "name": "stdin",
     "output_type": "stream",
     "text": [
      "\n",
      "Guess the number: 2\n"
     ]
    },
    {
     "name": "stdout",
     "output_type": "stream",
     "text": [
      "Number should be >= 7\n",
      "Better luck next time. ~_~\n",
      "2 lifelines left.\n"
     ]
    },
    {
     "name": "stdin",
     "output_type": "stream",
     "text": [
      "\n",
      "Guess the number: 22\n"
     ]
    },
    {
     "name": "stdout",
     "output_type": "stream",
     "text": [
      "Better luck next time. ~_~\n",
      "1 lifelines left.\n"
     ]
    },
    {
     "name": "stdin",
     "output_type": "stream",
     "text": [
      "\n",
      "Guess the number: 32\n"
     ]
    },
    {
     "name": "stdout",
     "output_type": "stream",
     "text": [
      "Better luck next time. ~_~\n",
      "0 lifelines left.\n",
      "man....You're dead... -_- \n"
     ]
    },
    {
     "name": "stdin",
     "output_type": "stream",
     "text": [
      "wanna play again..? (y/n):  n\n"
     ]
    },
    {
     "name": "stdout",
     "output_type": "stream",
     "text": [
      "GoodBye...\n"
     ]
    }
   ],
   "source": [
    "def funt():\n",
    "    \n",
    "    from random import randrange\n",
    "    chances = 5\n",
    "    print(\"Enter the range you want to try\")\n",
    "    first = int(input(\"Enter first number:\"))\n",
    "    last = int(input(\"Enter last number:\"))\n",
    "    print(f\"Guess the number that is greather than or eqaul to {first} but less than or eqaul to {last}.\\nYou have {chances} lifelines.\")\n",
    "    guess = 0\n",
    "    rand = randrange(first,last)\n",
    "    while guess != rand and chances > 0:\n",
    "        guess = int(input('\\nGuess the number:'))\n",
    "        if guess == rand:\n",
    "            print(\"Bravooo.....You guessed it right..!\")\n",
    "            break\n",
    "        else:\n",
    "            if guess < first:\n",
    "                print(f\"Number should be >= {first}\")\n",
    "            elif guess > last:\n",
    "                print(f\"Number should be <= {last}\")\n",
    "            chances = chances-1\n",
    "            print(f\"Better luck next time. ~_~\\n{chances} lifelines left.\")\n",
    "            if chances == 0:\n",
    "                print(\"man....You're dead... -_- \")\n",
    "                break\n",
    "funt()\n",
    "st = str(input(\"wanna play again..? (y/n): \"))\n",
    "while st!='n':\n",
    "    funt()\n",
    "    st = str(input(\"wanna play again..? (y/n): \"))\n",
    "print(\"GoodBye...\")"
   ]
  }
 ],
 "metadata": {
  "kernelspec": {
   "display_name": "Python 3 (ipykernel)",
   "language": "python",
   "name": "python3"
  },
  "language_info": {
   "codemirror_mode": {
    "name": "ipython",
    "version": 3
   },
   "file_extension": ".py",
   "mimetype": "text/x-python",
   "name": "python",
   "nbconvert_exporter": "python",
   "pygments_lexer": "ipython3",
   "version": "3.8.12"
  }
 },
 "nbformat": 4,
 "nbformat_minor": 5
}
